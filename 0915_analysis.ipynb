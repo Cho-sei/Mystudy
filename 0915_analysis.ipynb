{
 "cells": [
  {
   "cell_type": "code",
   "execution_count": 1,
   "metadata": {},
   "outputs": [],
   "source": [
    "import mne\n",
    "from mne.time_frequency.multitaper import psd_array_multitaper\n",
    "import pandas as pd\n",
    "import numpy as np\n",
    "import matplotlib.pyplot as plt\n",
    "from itertools import product\n",
    "import sys"
   ]
  },
  {
   "cell_type": "code",
   "execution_count": 2,
   "metadata": {},
   "outputs": [],
   "source": [
    "def eval_MItask(task, relax, ch, fmin, fmax):\n",
    "    TaskRelax = []\n",
    "    for epoch in [task, relax]:\n",
    "        psdList = []\n",
    "        for array in epoch.get_data()[:, epoch.ch_names.index(ch), :]:\n",
    "            psd, freqs = psd_array_multitaper(array, epoch.info['sfreq'], fmin=fmin, fmax=fmax)\n",
    "            psdList.append(psd)\n",
    "        TaskRelax.append(np.median(psdList))\n",
    "    return 100 * (TaskRelax[0] - TaskRelax[1]) / TaskRelax[1]"
   ]
  },
  {
   "cell_type": "code",
   "execution_count": 3,
   "metadata": {},
   "outputs": [],
   "source": [
    "def sep_block(epoch, label, init):\n",
    "    eventdf = pd.DataFrame(events, columns=['ind', 'step', 'id'])\n",
    "    RestIndex = eventdf[eventdf.id == event_id['rest']].ind.values\n",
    "    \n",
    "    BlockList = []\n",
    "    init = init\n",
    "    for index in np.insert(RestIndex, len(RestIndex), eventdf[eventdf.id == event_id['training_finish']].ind.item()):\n",
    "        BlockIndex = len(eventdf[(eventdf.id == event_id[label]) & (eventdf.ind < index)])\n",
    "        BlockList.append(epoch[init:BlockIndex])\n",
    "        init = BlockIndex\n",
    "    \n",
    "    return BlockList"
   ]
  },
  {
   "cell_type": "code",
   "execution_count": 4,
   "metadata": {},
   "outputs": [],
   "source": [
    "def calc_block_psd(epochs, label, ch, init=0):\n",
    "    epochList = sep_block(epochs, label, init)\n",
    "    \n",
    "    BlockPsdList = []\n",
    "    for epoch in epochList:\n",
    "        PsdList = []\n",
    "        for array in epoch.get_data()[:, epoch.ch_names.index(ch), :]:\n",
    "            psd, freqs = psd_array_multitaper(array, epoch.info['sfreq'], fmin=fmin, fmax=fmax)\n",
    "            PsdList.append(psd)\n",
    "        BlockPsdList.append(np.median(psd))\n",
    "\n",
    "    return BlockPsdList"
   ]
  },
  {
   "cell_type": "code",
   "execution_count": 5,
   "metadata": {},
   "outputs": [],
   "source": [
    "def create_MItest_erd_df(dfList, task, relax, label):\n",
    "    for i in range(2): #left and right\n",
    "        ch = 'C4' if i == 0 else 'C3'\n",
    "        ERSP = eval_MItask(task[i], relax[i], ch, fmin, fmax)\n",
    "        dfList[i] = dfList[i].append(pd.Series([label, ERSP], index=dfList[i].columns), ignore_index=True)"
   ]
  },
  {
   "cell_type": "code",
   "execution_count": 6,
   "metadata": {},
   "outputs": [],
   "source": [
    "def create_block_erd_df(dfList, task, baseline):\n",
    "    for i in range(2): #left and right\n",
    "        if i == 0:\n",
    "            ch = 'C4'\n",
    "            taskLabel = 'task_left'\n",
    "        else:\n",
    "            ch = 'C3'\n",
    "            taskLabel = 'task_right'\n",
    "        block_psd = calc_block_psd(task[i], taskLabel, ch)\n",
    "        for bNum, block in enumerate(['b1', 'b2', 'b3', 'b4', 'b5']):\n",
    "            dfList[i] = dfList[i].append(pd.Series([block, 100*(block_psd[bNum]-baseline[i])/baseline[i]], index=dfList[i].columns), ignore_index=True)"
   ]
  },
  {
   "cell_type": "code",
   "execution_count": 7,
   "metadata": {},
   "outputs": [],
   "source": [
    "fmin, fmax = 8, 13\n",
    "MI_Df = [pd.DataFrame(columns=['timing', 'ERSP'])] * 2\n",
    "Train_Df = [pd.DataFrame(columns=['block', 'ERSP'])] * 2"
   ]
  },
  {
   "cell_type": "code",
   "execution_count": 20,
   "metadata": {},
   "outputs": [],
   "source": [
    "pid = 'sha1'\n",
    "day = 'Day3'"
   ]
  },
  {
   "cell_type": "code",
   "execution_count": 21,
   "metadata": {},
   "outputs": [
    {
     "name": "stdout",
     "output_type": "stream",
     "text": [
      "Extracting parameters from result/sha1_Day3.vhdr...\n",
      "Setting channel info structure...\n",
      "Reading 0 ... 1083163  =      0.000 ...  2166.326 secs...\n",
      "Setting up band-stop filter from 59 - 61 Hz\n",
      "\n",
      "FIR filter parameters\n",
      "---------------------\n",
      "Designing a one-pass, zero-phase, non-causal bandstop filter:\n",
      "- Windowed time-domain design (firwin) method\n",
      "- Hamming window with 0.0194 passband ripple and 53 dB stopband attenuation\n",
      "- Lower passband edge: 59.35\n",
      "- Lower transition bandwidth: 0.50 Hz (-6 dB cutoff frequency: 59.10 Hz)\n",
      "- Upper passband edge: 60.65 Hz\n",
      "- Upper transition bandwidth: 0.50 Hz (-6 dB cutoff frequency: 60.90 Hz)\n",
      "- Filter length: 3301 samples (6.602 sec)\n",
      "\n",
      "Filtering raw data in 1 contiguous segment\n",
      "Setting up band-pass filter from 3 - 50 Hz\n",
      "\n",
      "FIR filter parameters\n",
      "---------------------\n",
      "Designing a one-pass, zero-phase, non-causal bandpass filter:\n",
      "- Windowed time-domain design (firwin) method\n",
      "- Hamming window with 0.0194 passband ripple and 53 dB stopband attenuation\n",
      "- Lower passband edge: 3.00\n",
      "- Lower transition bandwidth: 2.00 Hz (-6 dB cutoff frequency: 2.00 Hz)\n",
      "- Upper passband edge: 50.00 Hz\n",
      "- Upper transition bandwidth: 12.50 Hz (-6 dB cutoff frequency: 56.25 Hz)\n",
      "- Filter length: 825 samples (1.650 sec)\n",
      "\n",
      "Creating RawArray with float64 data, n_channels=25, n_times=1083164\n",
      "    Range : 0 ... 1083163 =      0.000 ...  2166.326 secs\n",
      "Ready.\n",
      "Applying a custom EEG reference.\n",
      "271 events found\n",
      "Event IDs: [ 256 1280 3072 3328 3584 3840 4096 4352 4608 4864 5120 5376 5632 5888\n",
      " 6144 6400]\n",
      "270 matching events found\n",
      "Applying baseline correction (mode: mean)\n",
      "Not setting metadata\n",
      "0 projection items activated\n"
     ]
    }
   ],
   "source": [
    "raw = mne.io.read_raw_brainvision('result/' + pid + '_' + day + '.vhdr', preload=True)\n",
    "#filter\n",
    "raw.notch_filter(freqs=60)\n",
    "raw.filter(l_freq=3, h_freq=50)\n",
    "#re-refernce\n",
    "re_signal = raw.get_data()[raw.ch_names.index('A2')] / 2\n",
    "new_raw = raw.get_data()\n",
    "new_raw[raw.ch_names.index('A2')] = re_signal\n",
    "raw = mne.io.RawArray(new_raw, info=raw.info)\n",
    "raw.set_eeg_reference(ref_channels=['A2'])\n",
    "#epoch\n",
    "events = mne.find_events(raw, stim_channel='TRIGGER')\n",
    "trigger_table = pd.read_csv('trigger_table.csv')\n",
    "trigger_table['sendnum'] = trigger_table['trigger'] * 256\n",
    "event_id = trigger_table.set_index('label')['sendnum'].to_dict()\n",
    "if day != 'Day1':\n",
    "    for id in ['flandars', 'KVIQ', 'Mitest_pre', 'Mitest_pre_taskright', 'Mitest_pre_taskleft', 'Mitest_pre_relaxright', 'Mitest_pre_relaxleft']:\n",
    "        del event_id[id]\n",
    "epochs = mne.Epochs(raw, events, event_id, tmin=-1, tmax=4, detrend=1)\n",
    "task = [epochs['task_left'], epochs['task_right']]\n",
    "if day == 'Day1':\n",
    "    Mitask_pre = [epochs['Mitest_pre_taskleft'], epochs['Mitest_pre_taskright']]\n",
    "    Mirelax_pre = [epochs['Mitest_pre_relaxleft'], epochs['Mitest_pre_relaxright']]\n",
    "Mitask_post = [epochs['Mitest_post_taskleft'], epochs['Mitest_post_taskright']]\n",
    "Mirelax_post = [epochs['Mitest_post_relaxleft'], epochs['Mitest_post_relaxright']]"
   ]
  },
  {
   "cell_type": "code",
   "execution_count": 22,
   "metadata": {},
   "outputs": [
    {
     "data": {
      "text/plain": [
       "array([5.18066388e-08, 3.96224587e-08])"
      ]
     },
     "execution_count": 22,
     "metadata": {},
     "output_type": "execute_result"
    }
   ],
   "source": [
    "baseline_df = pd.read_csv('result/' + pid + '_baseline_' + day + '.csv')\n",
    "baseline = baseline_df.median().values[1:]*1e-12\n",
    "baseline"
   ]
  },
  {
   "cell_type": "code",
   "execution_count": 23,
   "metadata": {
    "scrolled": false
   },
   "outputs": [
    {
     "name": "stdout",
     "output_type": "stream",
     "text": [
      "Loading data for 15 events and 2501 original time points ...\n",
      "0 bad epochs dropped\n",
      "Loading data for 15 events and 2501 original time points ...\n",
      "0 bad epochs dropped\n",
      "Loading data for 15 events and 2501 original time points ...\n",
      "0 bad epochs dropped\n",
      "Loading data for 15 events and 2501 original time points ...\n",
      "0 bad epochs dropped\n"
     ]
    }
   ],
   "source": [
    "if day == 'Day1':\n",
    "    create_MItest_erd_df(MI_Df, Mitask_pre, Mirelax_pre, 'Day1_pre')\n",
    "create_MItest_erd_df(MI_Df, Mitask_post, Mirelax_post, day + '_post')"
   ]
  },
  {
   "cell_type": "code",
   "execution_count": 24,
   "metadata": {},
   "outputs": [
    {
     "name": "stdout",
     "output_type": "stream",
     "text": [
      "Loading data for 10 events and 2501 original time points ...\n",
      "0 bad epochs dropped\n",
      "Loading data for 10 events and 2501 original time points ...\n",
      "0 bad epochs dropped\n",
      "Loading data for 10 events and 2501 original time points ...\n",
      "0 bad epochs dropped\n",
      "Loading data for 10 events and 2501 original time points ...\n",
      "0 bad epochs dropped\n",
      "Loading data for 10 events and 2501 original time points ...\n",
      "0 bad epochs dropped\n",
      "Loading data for 10 events and 2501 original time points ...\n",
      "0 bad epochs dropped\n",
      "Loading data for 10 events and 2501 original time points ...\n",
      "0 bad epochs dropped\n",
      "Loading data for 10 events and 2501 original time points ...\n",
      "0 bad epochs dropped\n",
      "Loading data for 10 events and 2501 original time points ...\n",
      "0 bad epochs dropped\n",
      "Loading data for 10 events and 2501 original time points ...\n",
      "0 bad epochs dropped\n"
     ]
    }
   ],
   "source": [
    "create_block_erd_df(Train_Df, task, baseline)"
   ]
  },
  {
   "cell_type": "code",
   "execution_count": 25,
   "metadata": {},
   "outputs": [
    {
     "data": {
      "text/html": [
       "<div>\n",
       "<style scoped>\n",
       "    .dataframe tbody tr th:only-of-type {\n",
       "        vertical-align: middle;\n",
       "    }\n",
       "\n",
       "    .dataframe tbody tr th {\n",
       "        vertical-align: top;\n",
       "    }\n",
       "\n",
       "    .dataframe thead th {\n",
       "        text-align: right;\n",
       "    }\n",
       "</style>\n",
       "<table border=\"1\" class=\"dataframe\">\n",
       "  <thead>\n",
       "    <tr style=\"text-align: right;\">\n",
       "      <th></th>\n",
       "      <th>timing</th>\n",
       "      <th>ERSP</th>\n",
       "    </tr>\n",
       "  </thead>\n",
       "  <tbody>\n",
       "    <tr>\n",
       "      <th>0</th>\n",
       "      <td>Day1_pre</td>\n",
       "      <td>0.474753</td>\n",
       "    </tr>\n",
       "    <tr>\n",
       "      <th>1</th>\n",
       "      <td>Day1_post</td>\n",
       "      <td>-3.040719</td>\n",
       "    </tr>\n",
       "    <tr>\n",
       "      <th>2</th>\n",
       "      <td>Day2_post</td>\n",
       "      <td>7.564062</td>\n",
       "    </tr>\n",
       "    <tr>\n",
       "      <th>3</th>\n",
       "      <td>Day3_post</td>\n",
       "      <td>-0.298422</td>\n",
       "    </tr>\n",
       "  </tbody>\n",
       "</table>\n",
       "</div>"
      ],
      "text/plain": [
       "      timing      ERSP\n",
       "0   Day1_pre  0.474753\n",
       "1  Day1_post -3.040719\n",
       "2  Day2_post  7.564062\n",
       "3  Day3_post -0.298422"
      ]
     },
     "execution_count": 25,
     "metadata": {},
     "output_type": "execute_result"
    }
   ],
   "source": [
    "MI_Df[1]"
   ]
  },
  {
   "cell_type": "code",
   "execution_count": 26,
   "metadata": {},
   "outputs": [
    {
     "data": {
      "text/html": [
       "<div>\n",
       "<style scoped>\n",
       "    .dataframe tbody tr th:only-of-type {\n",
       "        vertical-align: middle;\n",
       "    }\n",
       "\n",
       "    .dataframe tbody tr th {\n",
       "        vertical-align: top;\n",
       "    }\n",
       "\n",
       "    .dataframe thead th {\n",
       "        text-align: right;\n",
       "    }\n",
       "</style>\n",
       "<table border=\"1\" class=\"dataframe\">\n",
       "  <thead>\n",
       "    <tr style=\"text-align: right;\">\n",
       "      <th></th>\n",
       "      <th>block</th>\n",
       "      <th>ERSP</th>\n",
       "    </tr>\n",
       "  </thead>\n",
       "  <tbody>\n",
       "    <tr>\n",
       "      <th>0</th>\n",
       "      <td>b1</td>\n",
       "      <td>-74.081335</td>\n",
       "    </tr>\n",
       "    <tr>\n",
       "      <th>1</th>\n",
       "      <td>b2</td>\n",
       "      <td>-41.400170</td>\n",
       "    </tr>\n",
       "    <tr>\n",
       "      <th>2</th>\n",
       "      <td>b3</td>\n",
       "      <td>-33.975043</td>\n",
       "    </tr>\n",
       "    <tr>\n",
       "      <th>3</th>\n",
       "      <td>b4</td>\n",
       "      <td>-4.628198</td>\n",
       "    </tr>\n",
       "    <tr>\n",
       "      <th>4</th>\n",
       "      <td>b5</td>\n",
       "      <td>-2.941516</td>\n",
       "    </tr>\n",
       "    <tr>\n",
       "      <th>5</th>\n",
       "      <td>b1</td>\n",
       "      <td>-72.809450</td>\n",
       "    </tr>\n",
       "    <tr>\n",
       "      <th>6</th>\n",
       "      <td>b2</td>\n",
       "      <td>-77.054405</td>\n",
       "    </tr>\n",
       "    <tr>\n",
       "      <th>7</th>\n",
       "      <td>b3</td>\n",
       "      <td>-83.439846</td>\n",
       "    </tr>\n",
       "    <tr>\n",
       "      <th>8</th>\n",
       "      <td>b4</td>\n",
       "      <td>-82.635171</td>\n",
       "    </tr>\n",
       "    <tr>\n",
       "      <th>9</th>\n",
       "      <td>b5</td>\n",
       "      <td>-72.276651</td>\n",
       "    </tr>\n",
       "    <tr>\n",
       "      <th>10</th>\n",
       "      <td>b1</td>\n",
       "      <td>-32.055141</td>\n",
       "    </tr>\n",
       "    <tr>\n",
       "      <th>11</th>\n",
       "      <td>b2</td>\n",
       "      <td>-79.111743</td>\n",
       "    </tr>\n",
       "    <tr>\n",
       "      <th>12</th>\n",
       "      <td>b3</td>\n",
       "      <td>-88.499822</td>\n",
       "    </tr>\n",
       "    <tr>\n",
       "      <th>13</th>\n",
       "      <td>b4</td>\n",
       "      <td>-82.708297</td>\n",
       "    </tr>\n",
       "    <tr>\n",
       "      <th>14</th>\n",
       "      <td>b5</td>\n",
       "      <td>-64.026484</td>\n",
       "    </tr>\n",
       "  </tbody>\n",
       "</table>\n",
       "</div>"
      ],
      "text/plain": [
       "   block       ERSP\n",
       "0     b1 -74.081335\n",
       "1     b2 -41.400170\n",
       "2     b3 -33.975043\n",
       "3     b4  -4.628198\n",
       "4     b5  -2.941516\n",
       "5     b1 -72.809450\n",
       "6     b2 -77.054405\n",
       "7     b3 -83.439846\n",
       "8     b4 -82.635171\n",
       "9     b5 -72.276651\n",
       "10    b1 -32.055141\n",
       "11    b2 -79.111743\n",
       "12    b3 -88.499822\n",
       "13    b4 -82.708297\n",
       "14    b5 -64.026484"
      ]
     },
     "execution_count": 26,
     "metadata": {},
     "output_type": "execute_result"
    }
   ],
   "source": [
    "Train_Df[0]"
   ]
  },
  {
   "cell_type": "code",
   "execution_count": null,
   "metadata": {},
   "outputs": [],
   "source": []
  }
 ],
 "metadata": {
  "kernelspec": {
   "display_name": "Python 3",
   "language": "python",
   "name": "python3"
  },
  "language_info": {
   "codemirror_mode": {
    "name": "ipython",
    "version": 3
   },
   "file_extension": ".py",
   "mimetype": "text/x-python",
   "name": "python",
   "nbconvert_exporter": "python",
   "pygments_lexer": "ipython3",
   "version": "3.7.1"
  }
 },
 "nbformat": 4,
 "nbformat_minor": 2
}
