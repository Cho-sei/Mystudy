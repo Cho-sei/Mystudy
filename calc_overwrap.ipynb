{
 "cells": [
  {
   "cell_type": "code",
   "execution_count": 35,
   "metadata": {},
   "outputs": [],
   "source": [
    "import pandas as pd\n",
    "import csv\n",
    "import matplotlib.pyplot as plt\n",
    "import numpy as np"
   ]
  },
  {
   "cell_type": "code",
   "execution_count": 2,
   "metadata": {},
   "outputs": [],
   "source": [
    "pid = 'tani'\n",
    "train = pd.read_csv('result/tani_continuous_condition_Day1.csv')"
   ]
  },
  {
   "cell_type": "code",
   "execution_count": 22,
   "metadata": {},
   "outputs": [
    {
     "data": {
      "text/plain": [
       "[0.07146736861250247,\n",
       " 136.27372765208202,\n",
       " 20.65777933890604,\n",
       " 18.27150712888761,\n",
       " 18.63872543424077,\n",
       " 16.752989106909812,\n",
       " 16.903380236157318,\n",
       " 17.887848065192888,\n",
       " 16.102366617304142,\n",
       " 18.505237401010167]"
      ]
     },
     "execution_count": 22,
     "metadata": {},
     "output_type": "execute_result"
    }
   ],
   "source": [
    "list(train[train.block == 0].RT)"
   ]
  },
  {
   "cell_type": "code",
   "execution_count": 27,
   "metadata": {},
   "outputs": [],
   "source": [
    "fb_time = []"
   ]
  },
  {
   "cell_type": "code",
   "execution_count": 37,
   "metadata": {},
   "outputs": [],
   "source": [
    "for block in range(5):\n",
    "    with open('result/Yu_FB_ERSP_Day1_b' + str(block) + '.csv', 'r') as f:\n",
    "        FB = list(csv.reader(f, quoting=csv.QUOTE_NONNUMERIC))\n",
    "    for time, n_fb in zip(list(train[train.block == block].RT), [len(data) for data in FB]):\n",
    "        fb_time.append(time/n_fb)"
   ]
  },
  {
   "cell_type": "code",
   "execution_count": 38,
   "metadata": {},
   "outputs": [
    {
     "data": {
      "text/plain": [
       "(array([ 1., 12., 76., 14.,  6.,  0.,  0.,  0.,  0.,  1.]),\n",
       " array([1.10119212e-04, 2.87280417e-02, 5.73459641e-02, 8.59638866e-02,\n",
       "        1.14581809e-01, 1.43199732e-01, 1.71817654e-01, 2.00435576e-01,\n",
       "        2.29053499e-01, 2.57671421e-01, 2.86289344e-01]),\n",
       " <a list of 10 Patch objects>)"
      ]
     },
     "execution_count": 38,
     "metadata": {},
     "output_type": "execute_result"
    },
    {
     "data": {
      "image/png": "[encoded data removed]",
      "text/plain": [
       "<Figure size 432x288 with 1 Axes>"
      ]
     },
     "metadata": {
      "needs_background": "light"
     },
     "output_type": "display_data"
    }
   ],
   "source": [
    "plt.hist(fb_time)"
   ]
  },
  {
   "cell_type": "code",
   "execution_count": 40,
   "metadata": {},
   "outputs": [
    {
     "data": {
      "text/plain": [
       "0.08086570386040592"
      ]
     },
     "execution_count": 40,
     "metadata": {},
     "output_type": "execute_result"
    }
   ],
   "source": [
    "np.median(fb_time)"
   ]
  },
  {
   "cell_type": "code",
   "execution_count": null,
   "metadata": {},
   "outputs": [],
   "source": []
  }
 ],
 "metadata": {
  "kernelspec": {
   "display_name": "Python 3",
   "language": "python",
   "name": "python3"
  },
  "language_info": {
   "codemirror_mode": {
    "name": "ipython",
    "version": 3
   },
   "file_extension": ".py",
   "mimetype": "text/x-python",
   "name": "python",
   "nbconvert_exporter": "python",
   "pygments_lexer": "ipython3",
   "version": "3.7.1"
  }
 },
 "nbformat": 4,
 "nbformat_minor": 2
}
