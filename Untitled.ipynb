{
 "cells": [
  {
   "cell_type": "code",
   "execution_count": 12,
   "metadata": {},
   "outputs": [],
   "source": [
    "import itertools"
   ]
  },
  {
   "cell_type": "code",
   "execution_count": 23,
   "metadata": {},
   "outputs": [
    {
     "name": "stdout",
     "output_type": "stream",
     "text": [
      "[['base-right', '1-right'], ['base-right', '2-right'], ['base-right', '3-right'], ['base-right', '4-right'], ['index-right', 'middle-right', 'ring-right', 'little-right']]\n",
      "[['base-left', '1-left'], ['base-left', '2-left'], ['base-left', '3-left'], ['base-left', '4-left'], ['index-left', 'middle-left', 'ring-left', 'little-left']]\n"
     ]
    }
   ],
   "source": [
    "for hand in ['right', 'left']:\n",
    "    img_list = [['base-', '1-'],\n",
    "            ['base-', '2-'],\n",
    "            ['base-', '3-'],\n",
    "            ['base-', '4-'],\n",
    "            ['index-', 'middle-', 'ring-', 'little-']]\n",
    "    for i in range(len(img_list)):\n",
    "        for j in range(len(img_list[i])):\n",
    "            img_list[i][j] = img_list[i][j] + hand\n",
    "    print(img_list)"
   ]
  },
  {
   "cell_type": "code",
   "execution_count": 22,
   "metadata": {},
   "outputs": [
    {
     "data": {
      "text/plain": [
       "[['base-left', '1-left'],\n",
       " ['base-left', '2-left'],\n",
       " ['base-left', '3-left'],\n",
       " ['base-left', '4-left'],\n",
       " ['index-left', 'middle-left', 'ring-left', 'little-left']]"
      ]
     },
     "execution_count": 22,
     "metadata": {},
     "output_type": "execute_result"
    }
   ],
   "source": [
    "img_list"
   ]
  },
  {
   "cell_type": "code",
   "execution_count": 26,
   "metadata": {},
   "outputs": [],
   "source": [
    "image = [None]"
   ]
  },
  {
   "cell_type": "code",
   "execution_count": 27,
   "metadata": {},
   "outputs": [
    {
     "data": {
      "text/plain": [
       "1"
      ]
     },
     "execution_count": 27,
     "metadata": {},
     "output_type": "execute_result"
    }
   ],
   "source": [
    "len(image)"
   ]
  },
  {
   "cell_type": "code",
   "execution_count": 28,
   "metadata": {},
   "outputs": [],
   "source": [
    "from psychopy import sound"
   ]
  },
  {
   "cell_type": "code",
   "execution_count": 29,
   "metadata": {},
   "outputs": [],
   "source": [
    "test = sound.Sound('voicedata/ex_start.wav')"
   ]
  },
  {
   "cell_type": "code",
   "execution_count": 31,
   "metadata": {},
   "outputs": [],
   "source": [
    "test.play()"
   ]
  },
  {
   "cell_type": "code",
   "execution_count": 32,
   "metadata": {},
   "outputs": [],
   "source": [
    "test.stop()"
   ]
  },
  {
   "cell_type": "code",
   "execution_count": null,
   "metadata": {},
   "outputs": [],
   "source": []
  }
 ],
 "metadata": {
  "kernelspec": {
   "display_name": "Python 3",
   "language": "python",
   "name": "python3"
  },
  "language_info": {
   "codemirror_mode": {
    "name": "ipython",
    "version": 3
   },
   "file_extension": ".py",
   "mimetype": "text/x-python",
   "name": "python",
   "nbconvert_exporter": "python",
   "pygments_lexer": "ipython3",
   "version": "3.7.3"
  }
 },
 "nbformat": 4,
 "nbformat_minor": 2
}
